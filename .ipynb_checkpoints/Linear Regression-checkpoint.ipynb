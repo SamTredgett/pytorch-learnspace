{
 "cells": [
  {
   "cell_type": "markdown",
   "id": "9bcb7c6f",
   "metadata": {},
   "source": [
    "# Linear Regression Demo"
   ]
  },
  {
   "cell_type": "code",
   "execution_count": 2,
   "id": "6a9832f6",
   "metadata": {},
   "outputs": [],
   "source": [
    "import torch\n",
    "import numpy as np\n",
    "import matplotlib.pyplot as plt\n",
    "%matplotlib inline"
   ]
  },
  {
   "cell_type": "code",
   "execution_count": 3,
   "id": "02f02da9",
   "metadata": {},
   "outputs": [],
   "source": [
    "import torch.nn as nn"
   ]
  },
  {
   "cell_type": "code",
   "execution_count": 4,
   "id": "e4f6422c",
   "metadata": {},
   "outputs": [],
   "source": [
    "X = torch.linspace(1,50,50).reshape(-1,1)"
   ]
  },
  {
   "cell_type": "code",
   "execution_count": 5,
   "id": "83c21503",
   "metadata": {},
   "outputs": [
    {
     "data": {
      "text/plain": [
       "tensor([[ 1.],\n",
       "        [ 2.],\n",
       "        [ 3.],\n",
       "        [ 4.],\n",
       "        [ 5.],\n",
       "        [ 6.],\n",
       "        [ 7.],\n",
       "        [ 8.],\n",
       "        [ 9.],\n",
       "        [10.],\n",
       "        [11.],\n",
       "        [12.],\n",
       "        [13.],\n",
       "        [14.],\n",
       "        [15.],\n",
       "        [16.],\n",
       "        [17.],\n",
       "        [18.],\n",
       "        [19.],\n",
       "        [20.],\n",
       "        [21.],\n",
       "        [22.],\n",
       "        [23.],\n",
       "        [24.],\n",
       "        [25.],\n",
       "        [26.],\n",
       "        [27.],\n",
       "        [28.],\n",
       "        [29.],\n",
       "        [30.],\n",
       "        [31.],\n",
       "        [32.],\n",
       "        [33.],\n",
       "        [34.],\n",
       "        [35.],\n",
       "        [36.],\n",
       "        [37.],\n",
       "        [38.],\n",
       "        [39.],\n",
       "        [40.],\n",
       "        [41.],\n",
       "        [42.],\n",
       "        [43.],\n",
       "        [44.],\n",
       "        [45.],\n",
       "        [46.],\n",
       "        [47.],\n",
       "        [48.],\n",
       "        [49.],\n",
       "        [50.]])"
      ]
     },
     "execution_count": 5,
     "metadata": {},
     "output_type": "execute_result"
    }
   ],
   "source": [
    "X"
   ]
  },
  {
   "cell_type": "code",
   "execution_count": 6,
   "id": "3cc9da29",
   "metadata": {},
   "outputs": [],
   "source": [
    "torch.manual_seed(71)\n",
    "e = torch.randint(-8,9,(50,1),dtype=torch.float)\n"
   ]
  },
  {
   "cell_type": "code",
   "execution_count": 7,
   "id": "97e8b784",
   "metadata": {},
   "outputs": [
    {
     "data": {
      "text/plain": [
       "tensor([[ 2.],\n",
       "        [ 7.],\n",
       "        [ 2.],\n",
       "        [ 6.],\n",
       "        [ 2.],\n",
       "        [-4.],\n",
       "        [ 2.],\n",
       "        [-5.],\n",
       "        [ 4.],\n",
       "        [ 1.],\n",
       "        [ 2.],\n",
       "        [ 3.],\n",
       "        [ 1.],\n",
       "        [-8.],\n",
       "        [ 5.],\n",
       "        [ 5.],\n",
       "        [-6.],\n",
       "        [ 0.],\n",
       "        [-7.],\n",
       "        [-8.],\n",
       "        [-3.],\n",
       "        [-1.],\n",
       "        [ 2.],\n",
       "        [-6.],\n",
       "        [-3.],\n",
       "        [ 3.],\n",
       "        [ 2.],\n",
       "        [ 3.],\n",
       "        [ 4.],\n",
       "        [ 5.],\n",
       "        [ 1.],\n",
       "        [ 7.],\n",
       "        [ 6.],\n",
       "        [-1.],\n",
       "        [-6.],\n",
       "        [-5.],\n",
       "        [-3.],\n",
       "        [ 7.],\n",
       "        [ 0.],\n",
       "        [ 8.],\n",
       "        [-1.],\n",
       "        [-2.],\n",
       "        [ 2.],\n",
       "        [-8.],\n",
       "        [-1.],\n",
       "        [ 6.],\n",
       "        [-8.],\n",
       "        [-3.],\n",
       "        [-7.],\n",
       "        [-2.]])"
      ]
     },
     "execution_count": 7,
     "metadata": {},
     "output_type": "execute_result"
    }
   ],
   "source": [
    "e"
   ]
  },
  {
   "cell_type": "code",
   "execution_count": 8,
   "id": "4980fc56",
   "metadata": {},
   "outputs": [],
   "source": [
    "y = 2*X + 1 + e"
   ]
  },
  {
   "cell_type": "code",
   "execution_count": 9,
   "id": "621c3ba2",
   "metadata": {},
   "outputs": [
    {
     "data": {
      "text/plain": [
       "torch.Size([50, 1])"
      ]
     },
     "execution_count": 9,
     "metadata": {},
     "output_type": "execute_result"
    }
   ],
   "source": [
    "y.shape"
   ]
  },
  {
   "cell_type": "code",
   "execution_count": 11,
   "id": "6b94b46d",
   "metadata": {},
   "outputs": [
    {
     "data": {
      "text/plain": [
       "<matplotlib.collections.PathCollection at 0x7f7f4f2c4898>"
      ]
     },
     "execution_count": 11,
     "metadata": {},
     "output_type": "execute_result"
    },
    {
     "data": {
      "image/png": "[encoded data removed]",
      "text/plain": [
       "<Figure size 432x288 with 1 Axes>"
      ]
     },
     "metadata": {
      "needs_background": "light"
     },
     "output_type": "display_data"
    }
   ],
   "source": [
    "plt.scatter(X.numpy(), y.numpy())"
   ]
  },
  {
   "cell_type": "code",
   "execution_count": 12,
   "id": "8ad471e4",
   "metadata": {},
   "outputs": [
    {
     "name": "stdout",
     "output_type": "stream",
     "text": [
      "Parameter containing:\n",
      "tensor([[0.1060]], requires_grad=True)\n",
      "Parameter containing:\n",
      "tensor([0.9638], requires_grad=True)\n"
     ]
    }
   ],
   "source": [
    "torch.manual_seed(59)\n",
    "model = nn.Linear(in_features=1,out_features=1)\n",
    "print(model.weight)\n",
    "print(model.bias)"
   ]
  },
  {
   "cell_type": "code",
   "execution_count": 15,
   "id": "0ad99e0b",
   "metadata": {},
   "outputs": [],
   "source": [
    "class Model(nn.Module):\n",
    "    def __init__(self, in_features, out_features):\n",
    "        \n",
    "        super().__init__()\n",
    "        self.linear = nn.Linear(in_features, out_features)\n",
    "    \n",
    "    \n",
    "    def forward(self, x):\n",
    "        y_pred = self.linear(x)\n",
    "        return y_pred"
   ]
  },
  {
   "cell_type": "code",
   "execution_count": 16,
   "id": "b296865b",
   "metadata": {},
   "outputs": [
    {
     "name": "stdout",
     "output_type": "stream",
     "text": [
      "Parameter containing:\n",
      "tensor([[0.1060]], requires_grad=True)\n",
      "Parameter containing:\n",
      "tensor([0.9638], requires_grad=True)\n"
     ]
    }
   ],
   "source": [
    "torch.manual_seed(59)\n",
    "model = Model(1, 1)\n",
    "\n",
    "print(model.linear.weight)\n",
    "print(model.linear.bias)"
   ]
  },
  {
   "cell_type": "code",
   "execution_count": 18,
   "id": "57499af5",
   "metadata": {},
   "outputs": [
    {
     "name": "stdout",
     "output_type": "stream",
     "text": [
      "linear.weight \t 0.10597813129425049\n",
      "linear.bias \t 0.9637961387634277\n"
     ]
    }
   ],
   "source": [
    "for name, param in model.named_parameters():\n",
    "    print(name, '\\t', param.item())"
   ]
  },
  {
   "cell_type": "code",
   "execution_count": 19,
   "id": "bc43a2e7",
   "metadata": {},
   "outputs": [
    {
     "name": "stdout",
     "output_type": "stream",
     "text": [
      "tensor([1.1758], grad_fn=<AddBackward0>)\n"
     ]
    }
   ],
   "source": [
    "x = torch.tensor([2.0])\n",
    "print(model.forward(x))"
   ]
  },
  {
   "cell_type": "code",
   "execution_count": 20,
   "id": "f57e876b",
   "metadata": {},
   "outputs": [],
   "source": [
    "x1 = np.linspace(0,50.00,50)"
   ]
  },
  {
   "cell_type": "code",
   "execution_count": 21,
   "id": "76d1dd70",
   "metadata": {},
   "outputs": [
    {
     "data": {
      "text/plain": [
       "array([ 0.        ,  1.02040816,  2.04081633,  3.06122449,  4.08163265,\n",
       "        5.10204082,  6.12244898,  7.14285714,  8.16326531,  9.18367347,\n",
       "       10.20408163, 11.2244898 , 12.24489796, 13.26530612, 14.28571429,\n",
       "       15.30612245, 16.32653061, 17.34693878, 18.36734694, 19.3877551 ,\n",
       "       20.40816327, 21.42857143, 22.44897959, 23.46938776, 24.48979592,\n",
       "       25.51020408, 26.53061224, 27.55102041, 28.57142857, 29.59183673,\n",
       "       30.6122449 , 31.63265306, 32.65306122, 33.67346939, 34.69387755,\n",
       "       35.71428571, 36.73469388, 37.75510204, 38.7755102 , 39.79591837,\n",
       "       40.81632653, 41.83673469, 42.85714286, 43.87755102, 44.89795918,\n",
       "       45.91836735, 46.93877551, 47.95918367, 48.97959184, 50.        ])"
      ]
     },
     "execution_count": 21,
     "metadata": {},
     "output_type": "execute_result"
    }
   ],
   "source": [
    "x1"
   ]
  },
  {
   "cell_type": "code",
   "execution_count": 22,
   "id": "1054ba1e",
   "metadata": {},
   "outputs": [],
   "source": [
    "w1 = 0.1059\n",
    "b1 = 0.9637\n",
    "\n",
    "y1 = w1*x1 + b1"
   ]
  },
  {
   "cell_type": "code",
   "execution_count": 23,
   "id": "4e54f1c5",
   "metadata": {},
   "outputs": [
    {
     "data": {
      "text/plain": [
       "array([0.9637    , 1.07176122, 1.17982245, 1.28788367, 1.3959449 ,\n",
       "       1.50400612, 1.61206735, 1.72012857, 1.8281898 , 1.93625102,\n",
       "       2.04431224, 2.15237347, 2.26043469, 2.36849592, 2.47655714,\n",
       "       2.58461837, 2.69267959, 2.80074082, 2.90880204, 3.01686327,\n",
       "       3.12492449, 3.23298571, 3.34104694, 3.44910816, 3.55716939,\n",
       "       3.66523061, 3.77329184, 3.88135306, 3.98941429, 4.09747551,\n",
       "       4.20553673, 4.31359796, 4.42165918, 4.52972041, 4.63778163,\n",
       "       4.74584286, 4.85390408, 4.96196531, 5.07002653, 5.17808776,\n",
       "       5.28614898, 5.3942102 , 5.50227143, 5.61033265, 5.71839388,\n",
       "       5.8264551 , 5.93451633, 6.04257755, 6.15063878, 6.2587    ])"
      ]
     },
     "execution_count": 23,
     "metadata": {},
     "output_type": "execute_result"
    }
   ],
   "source": [
    "y1"
   ]
  },
  {
   "cell_type": "code",
   "execution_count": 24,
   "id": "884f5524",
   "metadata": {},
   "outputs": [
    {
     "data": {
      "text/plain": [
       "[<matplotlib.lines.Line2D at 0x7f7f4f224940>]"
      ]
     },
     "execution_count": 24,
     "metadata": {},
     "output_type": "execute_result"
    },
    {
     "data": {
      "image/png": "[encoded data removed]",
      "text/plain": [
       "<Figure size 432x288 with 1 Axes>"
      ]
     },
     "metadata": {
      "needs_background": "light"
     },
     "output_type": "display_data"
    }
   ],
   "source": [
    "plt.scatter(X.numpy(), y.numpy())\n",
    "plt.plot(x1 ,y1, 'r')"
   ]
  },
  {
   "cell_type": "code",
   "execution_count": 25,
   "id": "f39a468d",
   "metadata": {},
   "outputs": [],
   "source": [
    "criterion = nn.MSELoss() "
   ]
  },
  {
   "cell_type": "code",
   "execution_count": 27,
   "id": "c385f770",
   "metadata": {},
   "outputs": [],
   "source": [
    "optimizer = torch.optim.SGD(model.parameters(), lr=0.001) # Stochastic gradient descent learning rate"
   ]
  },
  {
   "cell_type": "code",
   "execution_count": 38,
   "id": "9d01cc8b",
   "metadata": {},
   "outputs": [
    {
     "name": "stdout",
     "output_type": "stream",
     "text": [
      "epoch 1 loss: 21.058000564575195 weight: 1.9838191270828247 bias: 1.0557515621185303\n",
      "epoch 2 loss: 21.0574893951416 weight: 1.9837985038757324 bias: 1.0564652681350708\n",
      "epoch 3 loss: 21.056978225708008 weight: 1.9837766885757446 bias: 1.0571786165237427\n",
      "epoch 4 loss: 21.05647087097168 weight: 1.9837559461593628 bias: 1.057891607284546\n",
      "epoch 5 loss: 21.05596160888672 weight: 1.9837344884872437 bias: 1.0586042404174805\n",
      "epoch 6 loss: 21.05545997619629 weight: 1.9837136268615723 bias: 1.0593165159225464\n",
      "epoch 7 loss: 21.054948806762695 weight: 1.9836921691894531 bias: 1.0600284337997437\n",
      "epoch 8 loss: 21.054443359375 weight: 1.9836713075637817 bias: 1.0607401132583618\n",
      "epoch 9 loss: 21.05393409729004 weight: 1.9836499691009521 bias: 1.0614514350891113\n",
      "epoch 10 loss: 21.053434371948242 weight: 1.9836288690567017 bias: 1.0621623992919922\n",
      "epoch 11 loss: 21.05292320251465 weight: 1.9836077690124512 bias: 1.0628730058670044\n",
      "epoch 12 loss: 21.05242347717285 weight: 1.9835866689682007 bias: 1.063583254814148\n",
      "epoch 13 loss: 21.051918029785156 weight: 1.9835655689239502 bias: 1.0642931461334229\n",
      "epoch 14 loss: 21.051414489746094 weight: 1.9835445880889893 bias: 1.065002679824829\n",
      "epoch 15 loss: 21.05091094970703 weight: 1.9835233688354492 bias: 1.0657118558883667\n",
      "epoch 16 loss: 21.050403594970703 weight: 1.9835023880004883 bias: 1.0664207935333252\n",
      "epoch 17 loss: 21.049901962280273 weight: 1.9834812879562378 bias: 1.067129373550415\n",
      "epoch 18 loss: 21.04939842224121 weight: 1.9834601879119873 bias: 1.0678375959396362\n",
      "epoch 19 loss: 21.04889678955078 weight: 1.9834392070770264 bias: 1.0685454607009888\n",
      "epoch 20 loss: 21.048398971557617 weight: 1.983418345451355 bias: 1.0692529678344727\n",
      "epoch 21 loss: 21.047895431518555 weight: 1.9833972454071045 bias: 1.069960117340088\n",
      "epoch 22 loss: 21.04739761352539 weight: 1.983376145362854 bias: 1.0706669092178345\n",
      "epoch 23 loss: 21.046897888183594 weight: 1.9833554029464722 bias: 1.0713733434677124\n",
      "epoch 24 loss: 21.046398162841797 weight: 1.9833341836929321 bias: 1.0720794200897217\n",
      "epoch 25 loss: 21.045902252197266 weight: 1.9833132028579712 bias: 1.0727852582931519\n",
      "epoch 26 loss: 21.04540252685547 weight: 1.9832924604415894 bias: 1.0734907388687134\n",
      "epoch 27 loss: 21.044902801513672 weight: 1.9832712411880493 bias: 1.0741958618164062\n",
      "epoch 28 loss: 21.04440689086914 weight: 1.983250617980957 bias: 1.0749006271362305\n",
      "epoch 29 loss: 21.043909072875977 weight: 1.983229398727417 bias: 1.075605034828186\n",
      "epoch 30 loss: 21.043415069580078 weight: 1.9832086563110352 bias: 1.076309084892273\n",
      "epoch 31 loss: 21.042922973632812 weight: 1.9831876754760742 bias: 1.0770127773284912\n",
      "epoch 32 loss: 21.04242515563965 weight: 1.9831668138504028 bias: 1.0777162313461304\n",
      "epoch 33 loss: 21.041933059692383 weight: 1.9831459522247314 bias: 1.0784193277359009\n",
      "epoch 34 loss: 21.041439056396484 weight: 1.983124852180481 bias: 1.0791220664978027\n",
      "epoch 35 loss: 21.04094123840332 weight: 1.9831042289733887 bias: 1.079824447631836\n",
      "epoch 36 loss: 21.040454864501953 weight: 1.9830831289291382 bias: 1.0805264711380005\n",
      "epoch 37 loss: 21.039958953857422 weight: 1.9830623865127563 bias: 1.0812281370162964\n",
      "epoch 38 loss: 21.03946304321289 weight: 1.9830416440963745 bias: 1.0819294452667236\n",
      "epoch 39 loss: 21.03897476196289 weight: 1.9830206632614136 bias: 1.0826305150985718\n",
      "epoch 40 loss: 21.038484573364258 weight: 1.9829999208450317 bias: 1.0833312273025513\n",
      "epoch 41 loss: 21.037988662719727 weight: 1.98297917842865 bias: 1.084031581878662\n",
      "epoch 42 loss: 21.037504196166992 weight: 1.9829583168029785 bias: 1.0847315788269043\n",
      "epoch 43 loss: 21.03700828552246 weight: 1.9829375743865967 bias: 1.0854312181472778\n",
      "epoch 44 loss: 21.03652000427246 weight: 1.9829167127609253 bias: 1.0861304998397827\n",
      "epoch 45 loss: 21.036035537719727 weight: 1.982896089553833 bias: 1.0868295431137085\n",
      "epoch 46 loss: 21.035545349121094 weight: 1.982875108718872 bias: 1.0875282287597656\n",
      "epoch 47 loss: 21.03505516052246 weight: 1.9828546047210693 bias: 1.088226556777954\n",
      "epoch 48 loss: 21.034568786621094 weight: 1.982833743095398 bias: 1.088924527168274\n",
      "epoch 49 loss: 21.03408432006836 weight: 1.9828130006790161 bias: 1.089622139930725\n",
      "epoch 50 loss: 21.03359603881836 weight: 1.9827923774719238 bias: 1.0903193950653076\n",
      "epoch 51 loss: 21.03310775756836 weight: 1.982771635055542 bias: 1.0910162925720215\n",
      "epoch 52 loss: 21.032623291015625 weight: 1.9827508926391602 bias: 1.0917129516601562\n",
      "epoch 53 loss: 21.032142639160156 weight: 1.9827302694320679 bias: 1.0924092531204224\n",
      "epoch 54 loss: 21.031654357910156 weight: 1.982709527015686 bias: 1.0931051969528198\n",
      "epoch 55 loss: 21.031171798706055 weight: 1.9826890230178833 bias: 1.0938007831573486\n",
      "epoch 56 loss: 21.030683517456055 weight: 1.9826679229736328 bias: 1.0944960117340088\n",
      "epoch 57 loss: 21.03020668029785 weight: 1.9826477766036987 bias: 1.0951910018920898\n",
      "epoch 58 loss: 21.029720306396484 weight: 1.9826267957687378 bias: 1.0958856344223022\n",
      "epoch 59 loss: 21.029237747192383 weight: 1.9826064109802246 bias: 1.096579909324646\n",
      "epoch 60 loss: 21.028757095336914 weight: 1.9825855493545532 bias: 1.097273826599121\n",
      "epoch 61 loss: 21.028274536132812 weight: 1.98256516456604 bias: 1.0979673862457275\n",
      "epoch 62 loss: 21.02779197692871 weight: 1.9825443029403687 bias: 1.0986605882644653\n",
      "epoch 63 loss: 21.027315139770508 weight: 1.9825239181518555 bias: 1.099353551864624\n",
      "epoch 64 loss: 21.026830673217773 weight: 1.9825034141540527 bias: 1.100046157836914\n",
      "epoch 65 loss: 21.02635383605957 weight: 1.9824827909469604 bias: 1.1007384061813354\n",
      "epoch 66 loss: 21.0258731842041 weight: 1.9824622869491577 bias: 1.1014302968978882\n",
      "epoch 67 loss: 21.025392532348633 weight: 1.9824415445327759 bias: 1.1021218299865723\n",
      "epoch 68 loss: 21.024919509887695 weight: 1.9824212789535522 bias: 1.1028131246566772\n",
      "epoch 69 loss: 21.024438858032227 weight: 1.9824004173278809 bias: 1.1035040616989136\n",
      "epoch 70 loss: 21.023963928222656 weight: 1.9823802709579468 bias: 1.1041946411132812\n",
      "epoch 71 loss: 21.023487091064453 weight: 1.9823594093322754 bias: 1.1048848628997803\n",
      "epoch 72 loss: 21.02301025390625 weight: 1.9823392629623413 bias: 1.1055747270584106\n",
      "epoch 73 loss: 21.02253532409668 weight: 1.98231840133667 bias: 1.1062642335891724\n",
      "epoch 74 loss: 21.022058486938477 weight: 1.9822982549667358 bias: 1.106953501701355\n",
      "epoch 75 loss: 21.02158546447754 weight: 1.982277512550354 bias: 1.107642412185669\n",
      "epoch 76 loss: 21.0211124420166 weight: 1.9822572469711304 bias: 1.1083309650421143\n",
      "epoch 77 loss: 21.0206356048584 weight: 1.9822367429733276 bias: 1.109019160270691\n",
      "epoch 78 loss: 21.02016258239746 weight: 1.9822163581848145 bias: 1.109706997871399\n",
      "epoch 79 loss: 21.019689559936523 weight: 1.9821957349777222 bias: 1.1103945970535278\n",
      "epoch 80 loss: 21.01921844482422 weight: 1.9821754693984985 bias: 1.111081838607788\n",
      "epoch 81 loss: 21.018747329711914 weight: 1.9821549654006958 bias: 1.1117687225341797\n",
      "epoch 82 loss: 21.01827049255371 weight: 1.9821345806121826 bias: 1.1124552488327026\n",
      "epoch 83 loss: 21.017797470092773 weight: 1.982114315032959 bias: 1.113141417503357\n",
      "epoch 84 loss: 21.017332077026367 weight: 1.9820938110351562 bias: 1.1138273477554321\n",
      "epoch 85 loss: 21.016857147216797 weight: 1.982073426246643 bias: 1.1145129203796387\n",
      "epoch 86 loss: 21.016387939453125 weight: 1.982053279876709 bias: 1.1151981353759766\n",
      "epoch 87 loss: 21.01592254638672 weight: 1.9820327758789062 bias: 1.1158829927444458\n",
      "epoch 88 loss: 21.015451431274414 weight: 1.9820125102996826 bias: 1.116567611694336\n",
      "epoch 89 loss: 21.01498794555664 weight: 1.9819920063018799 bias: 1.1172518730163574\n",
      "epoch 90 loss: 21.014516830444336 weight: 1.9819719791412354 bias: 1.1179357767105103\n",
      "epoch 91 loss: 21.01404571533203 weight: 1.9819514751434326 bias: 1.1186193227767944\n",
      "epoch 92 loss: 21.013578414916992 weight: 1.981931209564209 bias: 1.11930251121521\n",
      "epoch 93 loss: 21.01311492919922 weight: 1.9819109439849854 bias: 1.1199854612350464\n",
      "epoch 94 loss: 21.01264762878418 weight: 1.9818905591964722 bias: 1.1206680536270142\n",
      "epoch 95 loss: 21.012182235717773 weight: 1.981870412826538 bias: 1.1213502883911133\n",
      "epoch 96 loss: 21.011716842651367 weight: 1.981850028038025 bias: 1.1220321655273438\n",
      "epoch 97 loss: 21.011255264282227 weight: 1.9818298816680908 bias: 1.1227138042449951\n",
      "epoch 98 loss: 21.010791778564453 weight: 1.9818096160888672 bias: 1.1233950853347778\n",
      "epoch 99 loss: 21.010324478149414 weight: 1.981789231300354 bias: 1.124076008796692\n",
      "epoch 100 loss: 21.009859085083008 weight: 1.9817692041397095 bias: 1.1247565746307373\n"
     ]
    }
   ],
   "source": [
    "epoch = 100\n",
    "losses = []\n",
    "\n",
    "for i in range(epoch):\n",
    "    i +=1\n",
    "    # Predicting on the forward pass\n",
    "    y_pred = model.forward(X)\n",
    "    # Calculate our loss\n",
    "    loss = criterion(y_pred, y)\n",
    "    # Record our error\n",
    "    losses.append(loss)\n",
    "    \n",
    "    #print where we're at\n",
    "    print(f'epoch {i} loss: {loss.item()} weight: {model.linear.weight.item()} bias: {model.linear.bias.item()}')\n",
    "    \n",
    "    optimizer.zero_grad()\n",
    "    \n",
    "    loss.backward()\n",
    "    optimizer.step()\n",
    "    "
   ]
  },
  {
   "cell_type": "code",
   "execution_count": 39,
   "id": "740f5363",
   "metadata": {},
   "outputs": [
    {
     "data": {
      "text/plain": [
       "Text(0.5, 0, 'Epoch')"
      ]
     },
     "execution_count": 39,
     "metadata": {},
     "output_type": "execute_result"
    },
    {
     "data": {
      "image/png": "[encoded data removed]",
      "text/plain": [
       "<Figure size 432x288 with 1 Axes>"
      ]
     },
     "metadata": {
      "needs_background": "light"
     },
     "output_type": "display_data"
    }
   ],
   "source": [
    "plt.plot(range(epoch), losses)\n",
    "plt.ylabel('MSE LOSS')\n",
    "plt.xlabel('Epoch')"
   ]
  },
  {
   "cell_type": "code",
   "execution_count": 40,
   "id": "c1b54dbc",
   "metadata": {},
   "outputs": [],
   "source": [
    "x = np.linspace(0.0, 50.0, 50)\n",
    "current_weight = model.linear.weight.item()\n",
    "current_bias = model.linear.bias.item()\n",
    "\n",
    "predicted_y = current_weight*x  + current_bias"
   ]
  },
  {
   "cell_type": "code",
   "execution_count": 41,
   "id": "ffdcec23",
   "metadata": {},
   "outputs": [
    {
     "data": {
      "text/plain": [
       "array([  1.12543678,   3.14762958,   5.16982237,   7.19201517,\n",
       "         9.21420796,  11.23640076,  13.25859355,  15.28078634,\n",
       "        17.30297914,  19.32517193,  21.34736473,  23.36955752,\n",
       "        25.39175032,  27.41394311,  29.43613591,  31.4583287 ,\n",
       "        33.48052149,  35.50271429,  37.52490708,  39.54709988,\n",
       "        41.56929267,  43.59148547,  45.61367826,  47.63587106,\n",
       "        49.65806385,  51.68025664,  53.70244944,  55.72464223,\n",
       "        57.74683503,  59.76902782,  61.79122062,  63.81341341,\n",
       "        65.83560621,  67.857799  ,  69.87999179,  71.90218459,\n",
       "        73.92437738,  75.94657018,  77.96876297,  79.99095577,\n",
       "        82.01314856,  84.03534136,  86.05753415,  88.07972694,\n",
       "        90.10191974,  92.12411253,  94.14630533,  96.16849812,\n",
       "        98.19069092, 100.21288371])"
      ]
     },
     "execution_count": 41,
     "metadata": {},
     "output_type": "execute_result"
    }
   ],
   "source": [
    "predicted_y"
   ]
  },
  {
   "cell_type": "code",
   "execution_count": 42,
   "id": "6628e1fe",
   "metadata": {},
   "outputs": [
    {
     "data": {
      "text/plain": [
       "[<matplotlib.lines.Line2D at 0x7f7f4c6ca6a0>]"
      ]
     },
     "execution_count": 42,
     "metadata": {},
     "output_type": "execute_result"
    },
    {
     "data": {
      "image/png": "[encoded data removed]",
      "text/plain": [
       "<Figure size 432x288 with 1 Axes>"
      ]
     },
     "metadata": {
      "needs_background": "light"
     },
     "output_type": "display_data"
    }
   ],
   "source": [
    "plt.scatter(X.numpy(), y.numpy())\n",
    "plt.plot(x, predicted_y, 'r')"
   ]
  },
  {
   "cell_type": "code",
   "execution_count": null,
   "id": "9b87c060",
   "metadata": {},
   "outputs": [],
   "source": []
  }
 ],
 "metadata": {
  "kernelspec": {
   "display_name": "Python 3 (ipykernel)",
   "language": "python",
   "name": "python3"
  },
  "language_info": {
   "codemirror_mode": {
    "name": "ipython",
    "version": 3
   },
   "file_extension": ".py",
   "mimetype": "text/x-python",
   "name": "python",
   "nbconvert_exporter": "python",
   "pygments_lexer": "ipython3",
   "version": "3.7.3"
  }
 },
 "nbformat": 4,
 "nbformat_minor": 5
}
